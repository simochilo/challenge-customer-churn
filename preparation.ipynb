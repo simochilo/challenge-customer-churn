{
 "cells": [
  {
   "cell_type": "code",
   "execution_count": null,
   "id": "chubby-parish",
   "metadata": {},
   "outputs": [],
   "source": [
    "!pip install numpy\n",
    "!pip install pandas\n",
    "!pip install sklearn\n",
    "!pip install matplotlib"
   ]
  },
  {
   "cell_type": "code",
   "execution_count": 1,
   "id": "mathematical-atmosphere",
   "metadata": {},
   "outputs": [],
   "source": [
    "#importo pandas e train test split di sklearn e carico il dataset\n",
    "import pandas as pd\n",
    "from sklearn.model_selection import train_test_split\n",
    "dataset = pd.read_csv(\"Churn_Modelling.partial.csv\")"
   ]
  },
  {
   "cell_type": "code",
   "execution_count": 2,
   "id": "victorian-small",
   "metadata": {},
   "outputs": [],
   "source": [
    "#divido il dataset in train set e test set per creare i due file csv che servono\n",
    "train_data, test_data = train_test_split(dataset, test_size = 0.20, random_state = 100)\n",
    "train_data.to_csv(\"train.csv\", index = False)\n",
    "test_data.to_csv(\"train.csv\", index = False)"
   ]
  }
 ],
 "metadata": {
  "kernelspec": {
   "display_name": "Python 3",
   "language": "python",
   "name": "python3"
  },
  "language_info": {
   "codemirror_mode": {
    "name": "ipython",
    "version": 3
   },
   "file_extension": ".py",
   "mimetype": "text/x-python",
   "name": "python",
   "nbconvert_exporter": "python",
   "pygments_lexer": "ipython3",
   "version": "3.8.5"
  }
 },
 "nbformat": 4,
 "nbformat_minor": 5
}
