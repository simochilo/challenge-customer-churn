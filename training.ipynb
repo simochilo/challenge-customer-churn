{
 "cells": [
  {
   "cell_type": "code",
   "execution_count": null,
   "id": "verified-daughter",
   "metadata": {},
   "outputs": [],
   "source": [
    "!pip install numpy\n",
    "!pip install pandas\n",
    "!pip install sklearn\n",
    "!pip install matplotlib\n",
    "import numpy as np\n",
    "import pandas as pd\n",
    "import matplotlib.pyplot as plt\n",
    "import seaborn as sns\n",
    "from sklearn.preprocessing import LabelEncoder\n",
    "from sklearn.tree import DecisionTreeClassifier\n",
    "from sklearn.metrics import accuracy_score\n",
    "from sklearn.ensemble import RandomForestClassifier\n",
    "from sklearn.datasets import make_classification\n",
    "from sklearn.metrics import confusion_matrix\n",
    "from sklearn.metrics import plot_confusion_matrix, classification_report"
   ]
  },
  {
   "cell_type": "markdown",
   "id": "resident-austria",
   "metadata": {},
   "source": [
    "# Importo i dataset di train e test"
   ]
  },
  {
   "cell_type": "code",
   "execution_count": null,
   "id": "crucial-provider",
   "metadata": {},
   "outputs": [],
   "source": [
    "train_dataset = pd.read_csv(\"train.csv\")\n",
    "test_dataset = pd.read_csv(\"test.csv\")\n",
    "#controllo che non ci siano valori nulli all'interno del dataset\n",
    "train_dataset.info()\n",
    "train_dataset.isna().sum()\n",
    "test_dataset.info()\n",
    "test_dataset.isna().sum()"
   ]
  },
  {
   "cell_type": "markdown",
   "id": "adjusted-aside",
   "metadata": {},
   "source": [
    "# Fase di preprocessamento"
   ]
  },
  {
   "cell_type": "code",
   "execution_count": null,
   "id": "extraordinary-belize",
   "metadata": {},
   "outputs": [],
   "source": [
    "#CustomerId RowNumber hanno solo valori univoci per cui non vanno a influenzare 'Exited', si possono droppare\n",
    "train_dataset = train_dataset.drop('CustomerId', axis=1)\n",
    "test_dataset = test_dataset.drop('CustomerId', axis=1)\n",
    "\n",
    "train_dataset = train_dataset.drop('RowNumber', axis=1)\n",
    "test_dataset = test_dataset.drop('RowNumber', axis=1)"
   ]
  },
  {
   "cell_type": "markdown",
   "id": "filled-astronomy",
   "metadata": {},
   "source": [
    "# Fase di encoding"
   ]
  },
  {
   "cell_type": "code",
   "execution_count": null,
   "id": "eligible-future",
   "metadata": {},
   "outputs": [],
   "source": [
    "#effettuo l'encoding degli attributi che non sono numerici con label encoding\n",
    "features_to_encode = ['Gender', 'Surname', 'Geography']"
   ]
  },
  {
   "cell_type": "code",
   "execution_count": null,
   "id": "pressing-turkish",
   "metadata": {},
   "outputs": [],
   "source": [
    "labelEncoder1 = LabelEncoder()\n",
    "for feature in features_to_encode:\n",
    "    train_dataset[feature] = labelEncoder1.fit_transform(train_dataset[feature])\n",
    "\n",
    "for feature in features_to_encode:\n",
    "    test_dataset[feature] = labelEncoder1.fit_transform(test_dataset[feature])    "
   ]
  },
  {
   "cell_type": "markdown",
   "id": "vietnamese-constant",
   "metadata": {},
   "source": [
    "# Fase di analisi"
   ]
  },
  {
   "cell_type": "code",
   "execution_count": null,
   "id": "finished-spice",
   "metadata": {},
   "outputs": [],
   "source": [
    "#Creo la heatmap per vedere le correlazioni tra le feature\n",
    "plt.figure(figsize=(25,10))\n",
    "correlation = train_dataset.corr()\n",
    "sns.heatmap(correlation, annot = True, linewidth = 2)"
   ]
  },
  {
   "cell_type": "markdown",
   "id": "mobile-destiny",
   "metadata": {},
   "source": [
    "Si può notare che le feature con bassa correlazione con Exited possono essere: Surname, HasCrCard, Tenure. "
   ]
  },
  {
   "cell_type": "code",
   "execution_count": null,
   "id": "atlantic-giving",
   "metadata": {},
   "outputs": [],
   "source": [
    "#Per quanto riguarda Surname, si può vedere che esistono moltissimi valori univoci, più di un terzo dei valori totali, si può quindi droppare la feature senza avere ripercussioni su Exited\n",
    "train_dataset['Surname'].nunique()\n",
    "train_dataset = train_dataset.drop('Surname', axis=1)\n",
    "test_dataset = test_dataset.drop('Surname', axis=1)"
   ]
  },
  {
   "cell_type": "code",
   "execution_count": null,
   "id": "distant-egyptian",
   "metadata": {},
   "outputs": [],
   "source": [
    "#Per HasCrCard utilizzo una countplot per vedere la sua influenza sui valori di Exited\n",
    "sns.countplot(x=\"HasCrCard\", hue=\"Exited\", data=train_dataset)\n",
    "plt.show()"
   ]
  },
  {
   "cell_type": "markdown",
   "id": "liable-federation",
   "metadata": {},
   "source": [
    "Dal grafico si intuisce che non è una feature particolarmente rilevante in quanto le proporzioni tra valori diversi di Exited rimangono molto simili al variare di HasCrCard, si può quindi decidere di dropparla."
   ]
  },
  {
   "cell_type": "code",
   "execution_count": null,
   "id": "sublime-prompt",
   "metadata": {},
   "outputs": [],
   "source": [
    "train_dataset = train_dataset.drop('HasCrCard', axis=1)\n",
    "test_dataset = test_dataset.drop('HasCrCard', axis=1)"
   ]
  },
  {
   "cell_type": "code",
   "execution_count": null,
   "id": "therapeutic-anxiety",
   "metadata": {},
   "outputs": [],
   "source": [
    "#Faccio la stessa cosa anche per Tenure\n",
    "sns.countplot(x=\"Tenure\", hue=\"Exited\", data=train_dataset)\n",
    "plt.show()"
   ]
  },
  {
   "cell_type": "code",
   "execution_count": null,
   "id": "desirable-interim",
   "metadata": {},
   "outputs": [],
   "source": [
    "#Siccome il risultato non è immediatamente chiaro eseguo anche una displot\n",
    "sns.displot(x=\"Tenure\", hue=\"Exited\", data=train_dataset, kind=\"kde\")\n",
    "plt.show()"
   ]
  },
  {
   "cell_type": "markdown",
   "id": "patient-prerequisite",
   "metadata": {},
   "source": [
    "Dai due grafici si intuisce che per valori da 1 a 9 di Tenure, Exited rimane pressocché costante, per Tenure pari a 1 e 10 invece la proporzione è meno omogenea. Siccome comunque la gran maggioranza dei valori di Tenure non influisce particolarmente su Exited si può comunque decidere di dropparla."
   ]
  },
  {
   "cell_type": "code",
   "execution_count": null,
   "id": "connected-california",
   "metadata": {},
   "outputs": [],
   "source": [
    "train_dataset = train_dataset.drop('Tenure', axis=1)\n",
    "test_dataset = test_dataset.drop('Tenure', axis=1)"
   ]
  },
  {
   "cell_type": "markdown",
   "id": "pacific-employer",
   "metadata": {},
   "source": [
    "A questo punto si nota dalla heatmap che due feature sono particolarmente correlate fra di loro, Balance e NumOfProducts. Tra le due Balance risulta essere molto più correlata a Exited rispetto a NumOfProducts, per cui si potrebbe pensare di droppare quest'ultima."
   ]
  },
  {
   "cell_type": "code",
   "execution_count": null,
   "id": "conventional-insertion",
   "metadata": {},
   "outputs": [],
   "source": [
    "#Per verificare ciò controllo countplot e displot di NumOfProducts\n",
    "sns.countplot(x=\"NumOfProducts\", hue=\"Exited\", data=train_dataset)\n",
    "plt.show()"
   ]
  },
  {
   "cell_type": "code",
   "execution_count": null,
   "id": "southeast-pride",
   "metadata": {},
   "outputs": [],
   "source": [
    "sns.displot(x=\"NumOfProducts\", hue=\"Exited\", data=train_dataset, kind=\"kde\")\n",
    "plt.show()"
   ]
  },
  {
   "cell_type": "markdown",
   "id": "rapid-blackjack",
   "metadata": {},
   "source": [
    "In realtà dai grafici si evince che il valore di Exited varia considerevolmente al variare di NumOfProducts, per cui non sembra essere produttivo dropparla, tantomeno Balance data la sua correlazione maggiore con Exited, si mantengono quindi entrambe nonostante la loro correlazione."
   ]
  },
  {
   "cell_type": "markdown",
   "id": "structured-booth",
   "metadata": {},
   "source": [
    "# Fase di Training"
   ]
  },
  {
   "cell_type": "code",
   "execution_count": null,
   "id": "dominican-atmosphere",
   "metadata": {},
   "outputs": [],
   "source": [
    "#Per il training utilizzo come classificatore un albero di decisione e controllo il valore di accuracy ottenuto\n",
    "y_train = train_dataset.Exited          \n",
    "X_train = train_dataset.drop(['Exited'], axis=1)  \n",
    "\n",
    "y_test = test_dataset.Exited         \n",
    "X_test = test_dataset.drop(['Exited'], axis=1)"
   ]
  },
  {
   "cell_type": "code",
   "execution_count": null,
   "id": "liked-removal",
   "metadata": {},
   "outputs": [],
   "source": [
    "\n",
    "tree = DecisionTreeClassifier()\n",
    "tree.fit(X_train, y_train)\n",
    "\n",
    "\n",
    "y_pred = tree.predict(X_test)\n",
    "accuracy_lr = tree.score(X_test,y_test)\n",
    "\n",
    "print(tree)\n",
    "print('\\n')\n",
    "print(\"Accuracy: {:.3f}%\".format(accuracy_lr*100))"
   ]
  },
  {
   "cell_type": "code",
   "execution_count": null,
   "id": "designing-insulation",
   "metadata": {},
   "outputs": [],
   "source": [
    "#Utilizzo una confusion matrix per controllare il numero di errori compiuti, verificando i valori di precision e recall ottenuti\n",
    "print('\\n')\n",
    "cm_lr = confusion_matrix(y_test,tree.predict(X_test))\n",
    "f, ax = plt.subplots(figsize = (5,5))\n",
    "sns.heatmap(cm_lr, annot = True, linewidths = 0.5, color = \"red\", fmt = \".0f\", ax=ax)\n",
    "plt.xlabel(\"y_predicted\")\n",
    "plt.ylabel(\"y_true\")\n",
    "plt.title(\"Confusion Matrix of Decision Tree Classifier\")\n",
    "plt.show()\n",
    "print('\\n\\n')\n",
    "print(classification_report(y_test,y_pred))\n",
    "print('\\n\\n')"
   ]
  },
  {
   "cell_type": "markdown",
   "id": "accompanied-trust",
   "metadata": {},
   "source": [
    "Il valore di Accuracy di circa 77% non è particolarmente soddisfacente, infatti per Exited pari a 1 vi è un numero molto simile di previsioni corrette ed errate, il che non si può considerare come un buon risultato, la precision e la recall teoricamente possono essere considerati accettabili anche se si può fare di meglio (0.86 e 0.84). Per Exited pari a 0 invece almeno il numero di previsioni corrette rispetto a quelle errate va molto bene (1062 contro 171).\n",
    "\n",
    "Scelgo di controllare anche con Random Forest per vedere se la situazione migliora. In Random Forest vengono generati una serie di Decision Tree durante il training e il risultato finale dato dal classificatore corrisponde al risultato scelto dalla maggior parte dei Decision Tree generati. Questo classificatore dovrebbe migliorare l'accuracy del modello."
   ]
  },
  {
   "cell_type": "code",
   "execution_count": null,
   "id": "remarkable-quantity",
   "metadata": {},
   "outputs": [],
   "source": [
    "clf = RandomForestClassifier()\n",
    "clf.fit(X_train, y_train)\n",
    "\n",
    "y_pred = clf.predict(X_test)\n",
    "accuracy_lr = clf.score(X_test,y_test)\n",
    "\n",
    "print(clf)\n",
    "print('\\n')\n",
    "print(\"Accuracy: {:.3f}%\".format(accuracy_lr*100))"
   ]
  },
  {
   "cell_type": "code",
   "execution_count": null,
   "id": "informative-repository",
   "metadata": {},
   "outputs": [],
   "source": [
    "print('\\n')\n",
    "cm_lr = confusion_matrix(y_test,clf.predict(X_test))\n",
    "f, ax = plt.subplots(figsize = (5,5))\n",
    "sns.heatmap(cm_lr, annot = True, linewidths = 0.5, color = \"red\", fmt = \".0f\", ax=ax)\n",
    "plt.xlabel(\"y_predicted\")\n",
    "plt.ylabel(\"y_true\")\n",
    "plt.title(\"Confusion Matrix of Random Forest Classifier\")\n",
    "plt.show()\n",
    "print('\\n\\n')\n",
    "print(classification_report(y_test,y_pred))\n",
    "print('\\n\\n')"
   ]
  },
  {
   "cell_type": "markdown",
   "id": "weird-monitor",
   "metadata": {},
   "source": [
    "I risultati sono un po' migliori rispetto al Decision Tree con un 85% di accuracy, si nota che la recall sia aumentata sensibilmente (da 0.84 a 0.97) e un numero decisamente maggiore di previsioni corrette rispetto a quelle errate (150 contro 44), in questo caso quindi l'addestramento è più soddisfacente. Per Exited pari a 0 si ha ancora un buon risultato come prima (1214 corretti contro 192 errati)"
   ]
  },
  {
   "cell_type": "markdown",
   "id": "refined-tongue",
   "metadata": {},
   "source": [
    "I risultati ottenuti mostrano come il processo di training porti a ottimi risultati per clienti con Exited pari a 0, a differenza di quelli con Exited pari a 1 che invece riportani errori maggiori, cio in realtà era prevedibile data la proporzione che c'è tra clienti che hanno Exited pari a 0 e pari a 1, i primi in fatti sono in numero nettamente maggiore rispetto ai secondi, per cui era lecito aspettarsi che il processo di training portasse a risultati buoni per Exited=0 al contrario di Exited=1 a causa della minor presenza di dati in merito."
   ]
  },
  {
   "cell_type": "code",
   "execution_count": null,
   "id": "adjusted-population",
   "metadata": {},
   "outputs": [],
   "source": [
    "#Questo fatto si nota osservando la countplot di Exited\n",
    "sns.countplot(x=\"Exited\", data=train_dataset)\n",
    "plt.show()"
   ]
  },
  {
   "cell_type": "markdown",
   "id": "civil-retro",
   "metadata": {},
   "source": [
    "Ho provato a droppare anche NumOfProducts arrivando però a risultati ancora peggiori, circa 74% di accuracy con valori di precision e recall vicini rispettivamente a 0.40 e 0.30. \n",
    "\n",
    "Successivamente ho provato anche a considerare solo la differenza tra ExtimatedSalary e Balance ottenendo una feature aggiuntiva (correlata con loro due, correlata di più a Exited rispetto a ExtimatedSalary), comunque il risultato era ancora peggiore con accuracy di circa 72% e valori di precision e recall simili a quelli ottenuti droppando NumOfProducts.\n",
    "La feature aggiuntiva è stata calcolata in questo modo:\n",
    "\n",
    "train_dataset[\"Diff_Balance_Salary\"] = train_dataset.Balance - train_dataset.EstimatedSalary\n",
    "test_dataset[\"Diff_Balance_Salary\"] = test_dataset.Balance - test_dataset.EstimatedSalary"
   ]
  },
  {
   "cell_type": "code",
   "execution_count": null,
   "id": "collaborative-headset",
   "metadata": {},
   "outputs": [],
   "source": []
  }
 ],
 "metadata": {
  "kernelspec": {
   "display_name": "Python 3",
   "language": "python",
   "name": "python3"
  },
  "language_info": {
   "codemirror_mode": {
    "name": "ipython",
    "version": 3
   },
   "file_extension": ".py",
   "mimetype": "text/x-python",
   "name": "python",
   "nbconvert_exporter": "python",
   "pygments_lexer": "ipython3",
   "version": "3.8.5"
  }
 },
 "nbformat": 4,
 "nbformat_minor": 5
}
